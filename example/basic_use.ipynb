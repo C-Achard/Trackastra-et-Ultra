{
 "cells": [
  {
   "cell_type": "code",
   "execution_count": null,
   "id": "e50a23c6",
   "metadata": {},
   "outputs": [],
   "source": []
  }
 ],
 "metadata": {
  "kernelspec": {
   "display_name": "tastra",
   "language": "python",
   "name": "python3"
  },
  "language_info": {
   "name": "python",
   "version": "3.10.16"
  }
 },
 "nbformat": 4,
 "nbformat_minor": 5
}
