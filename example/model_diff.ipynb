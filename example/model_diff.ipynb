{
 "cells": [
  {
   "cell_type": "code",
   "execution_count": null,
   "id": "ccfd10eb",
   "metadata": {},
   "outputs": [
    {
     "name": "stderr",
     "output_type": "stream",
     "text": [
      "c:\\Users\\Cyril\\anaconda3\\envs\\tastra\\lib\\site-packages\\tqdm\\auto.py:21: TqdmWarning: IProgress not found. Please update jupyter and ipywidgets. See https://ipywidgets.readthedocs.io/en/stable/user_install.html\n",
      "  from .autonotebook import tqdm as notebook_tqdm\n"
     ]
    },
    {
     "name": "stdout",
     "output_type": "stream",
     "text": [
      "\n",
      "\n",
      "Welcome to CellposeSAM, cellpose v\n",
      "cellpose version: \t4.0.3.dev23+gde041ff \n",
      "platform:       \twin32 \n",
      "python version: \t3.10.16 \n",
      "torch version:  \t2.6.0! The neural network component of\n",
      "CPSAM is much larger than in previous versions and CPU excution is slow. \n",
      "We encourage users to use GPU/MPS if available. \n",
      "\n",
      "\n"
     ]
    }
   ],
   "source": [
    "from pathlib import Path\n",
    "\n",
    "from trackastra.model import Trackastra"
   ]
  },
  {
   "cell_type": "code",
   "execution_count": 2,
   "id": "ad04c07f",
   "metadata": {},
   "outputs": [],
   "source": [
    "# model_path = Path(r\"C:\\Users\\Cyril\\Desktop\\Code\\thesis_misc\\eval_scripts\\BENCHMARK\\general\\RUNS\\2025-07-22_12-00-55_zih_general_v4_sam21_aug\")\n",
    "model_path = Path(\n",
    "    # r\"C:\\Users\\Cyril\\Desktop\\Code\\thesis_misc\\eval_scripts\\BENCHMARK\\bacteria\\RUNS\\2025-06-24_20-10-57_vanvliet_sam21_aug_norm\"\n",
    "    r\"C:\\Users\\Cyril\\Desktop\\Code\\thesis_misc\\eval_scripts\\BENCHMARK\\general/RUNS/2025-07-22_12-00-55_zih_general_v4_sam21_aug\"\n",
    ")"
   ]
  },
  {
   "cell_type": "code",
   "execution_count": 3,
   "id": "c6a9e929",
   "metadata": {},
   "outputs": [],
   "source": [
    "DATA_PATH = Path(\n",
    "    # r\"C:\\Users\\Cyril\\Desktop\\Code\\thesis_misc\\CTC_DATA\\Fluo-N2DL-HeLa\"\n",
    "    # r\"C:\\Users\\Cyril\\Desktop\\Code\\thesis_misc\\CTC_DATA\\BF-C2DL-MuSC\"\n",
    "    # r\"C:\\Users\\Cyril\\Desktop\\Code\\thesis_misc\\CTC_DATA\\Fluo-C2DL-Huh7\"\n",
    "    r\"C:\\Users\\Cyril\\Desktop\\Code\\thesis_misc\\CTC_DATA\\vanvliet/recA/151031-03\"\n",
    ")"
   ]
  },
  {
   "cell_type": "code",
   "execution_count": 4,
   "id": "fed1b823",
   "metadata": {},
   "outputs": [],
   "source": [
    "VIDEO = \"img\"\n",
    "USE_ERR_SEG = False"
   ]
  },
  {
   "cell_type": "code",
   "execution_count": 5,
   "id": "7c073c2f",
   "metadata": {},
   "outputs": [
    {
     "name": "stderr",
     "output_type": "stream",
     "text": [
      "INFO:trackastra.model.model:Loading model state from C:\\Users\\Cyril\\Desktop\\Code\\thesis_misc\\eval_scripts\\BENCHMARK\\general\\RUNS\\2025-07-22_12-00-55_zih_general_v4_sam21_aug\\model.pt\n",
      "INFO:trackastra.model.model_api:Using device cuda\n",
      "INFO:trackastra.model.model_api:Default batch size = 4 for model on cuda.\n"
     ]
    }
   ],
   "source": [
    "model = Trackastra.from_folder(model_path)"
   ]
  },
  {
   "cell_type": "code",
   "execution_count": 6,
   "id": "54b0824f",
   "metadata": {},
   "outputs": [
    {
     "name": "stderr",
     "output_type": "stream",
     "text": [
      "INFO:trackastra.model.model:Loading model state from C:\\Users\\Cyril\\Desktop\\Code\\trackastra-fork\\trackastra\\.models\\general_2d\\model.pt\n"
     ]
    },
    {
     "name": "stdout",
     "output_type": "stream",
     "text": [
      "C:\\Users\\Cyril\\Desktop\\Code\\trackastra-fork\\trackastra\\.models\\general_2d already downloaded, skipping.\n"
     ]
    },
    {
     "name": "stderr",
     "output_type": "stream",
     "text": [
      "INFO:trackastra.model.model_api:Using device cuda\n",
      "INFO:trackastra.model.model_api:Default batch size = 4 for model on cuda.\n"
     ]
    }
   ],
   "source": [
    "model_general = Trackastra.from_pretrained(\"general_2d\")"
   ]
  },
  {
   "cell_type": "code",
   "execution_count": 7,
   "id": "cd8763de",
   "metadata": {},
   "outputs": [
    {
     "name": "stderr",
     "output_type": "stream",
     "text": [
      "INFO:trackastra.model.model_api:Predicting weights for candidate graph\n",
      "INFO:trackastra.data.wrfeat:Extracting features from 23 frames.\n",
      "INFO:trackastra.data.wrfeat:Using single process for feature extraction\n",
      "Extracting features: 100%|██████████| 23/23 [00:00<00:00, 70.18it/s] \n",
      "INFO:trackastra.model.model_api:Building windows\n",
      "Building windows: 100%|██████████| 20/20 [00:00<00:00, 4142.11it/s]\n",
      "INFO:trackastra.model.model_api:Predicting windows\n",
      "Computing associations: 100%|██████████| 5/5 [00:01<00:00,  4.86it/s]\n",
      "INFO:trackastra.model.model_api:Running greedy tracker\n",
      "INFO:trackastra.tracking.tracking:Build candidate graph with delta_t=1\n",
      "INFO:trackastra.tracking.tracking:Added 417 vertices, 434 edges               \n",
      "INFO:trackastra.tracking.tracking:Running greedy tracker\n",
      "Greedily matched edges:  95%|█████████▌| 414/434 [00:00<00:00, 90633.22it/s]\n"
     ]
    }
   ],
   "source": [
    "graph_general_2d, masks_tra_general_2d = model_general.track_from_disk(\n",
    "    DATA_PATH / VIDEO,\n",
    "    # DATA_PATH / f\"{VIDEO}_ST/SEG\" if not USE_ERR_SEG else\n",
    "    # DATA_PATH / f\"{VIDEO}_ERR_SEG\"\n",
    "    # DATA_PATH / f\"{VIDEO}_GT/TRA\"\n",
    "    DATA_PATH / \"TRA\",\n",
    ")"
   ]
  },
  {
   "cell_type": "code",
   "execution_count": 8,
   "id": "d0de170a",
   "metadata": {},
   "outputs": [
    {
     "name": "stderr",
     "output_type": "stream",
     "text": [
      "INFO:trackastra_pretrained_feats.pretrained_features:Using model facebook/sam2.1-hiera-base-plus with mode mean_patches_exact for pretrained feature extraction.\n",
      "INFO:root:Loaded checkpoint sucessfully\n",
      "INFO:trackastra.model.model_api:Predicting weights for candidate graph\n",
      "INFO:trackastra.data.wrfeat:Extracting features from 23 frames.\n",
      "INFO:trackastra.model.model_api:Building windows                   \n",
      "Building windows: 100%|██████████| 20/20 [00:00<00:00, 3648.65it/s]\n",
      "INFO:trackastra.model.model_api:Predicting windows\n",
      "Computing associations: 100%|██████████| 5/5 [00:00<00:00, 23.63it/s]\n",
      "INFO:trackastra.model.model_api:Running greedy tracker\n",
      "INFO:trackastra.tracking.tracking:Build candidate graph with delta_t=1\n",
      "INFO:trackastra.tracking.tracking:Added 417 vertices, 438 edges               \n",
      "INFO:trackastra.tracking.tracking:Running greedy tracker\n",
      "Greedily matched edges:  95%|█████████▌| 418/438 [00:00<00:00, 66626.86it/s]\n"
     ]
    }
   ],
   "source": [
    "graph, masks_tra = model.track_from_disk(\n",
    "    DATA_PATH / VIDEO,\n",
    "    # DATA_PATH / f\"{VIDEO}_ST/SEG\" if not USE_ERR_SEG else\n",
    "    # DATA_PATH / f\"{VIDEO}_ERR_SEG\"\n",
    "    # DATA_PATH / f\"{VIDEO}_GT/TRA\"\n",
    "    DATA_PATH / \"TRA\",\n",
    ")"
   ]
  },
  {
   "cell_type": "code",
   "execution_count": 9,
   "id": "0412a051",
   "metadata": {},
   "outputs": [],
   "source": [
    "from trackastra.tracking import graph_to_ctc, graph_to_napari_tracks"
   ]
  },
  {
   "cell_type": "code",
   "execution_count": 10,
   "id": "2d22066f",
   "metadata": {},
   "outputs": [
    {
     "name": "stderr",
     "output_type": "stream",
     "text": [
      "Converting graph to CTC results: 100%|██████████| 186/186 [00:00<00:00, 10877.89it/s]\n",
      "Saving masks: 100%|██████████| 23/23 [00:00<00:00, 165.92it/s]\n",
      "Converting graph to CTC results: 100%|██████████| 182/182 [00:00<00:00, 15387.29it/s]\n",
      "Saving masks: 100%|██████████| 23/23 [00:00<00:00, 210.68it/s]\n"
     ]
    }
   ],
   "source": [
    "ctc_tracks, ctc_masks = graph_to_ctc(\n",
    "    graph,\n",
    "    masks_tra,\n",
    "    outdir=\"tracked_ctc\",\n",
    ")\n",
    "ctc_tracks_general_2d, ctc_masks_general_2d = graph_to_ctc(\n",
    "    graph_general_2d,\n",
    "    masks_tra_general_2d,\n",
    "    outdir=\"tracked_ctc_general_2d\",\n",
    ")"
   ]
  },
  {
   "cell_type": "code",
   "execution_count": 11,
   "id": "f622641c",
   "metadata": {},
   "outputs": [
    {
     "name": "stderr",
     "output_type": "stream",
     "text": [
      "100%|██████████| 186/186 [00:00<00:00, 186725.84it/s]\n",
      "100%|██████████| 182/182 [00:00<00:00, 135805.61it/s]\n"
     ]
    }
   ],
   "source": [
    "napari_tracks, napari_tracks_graph, _ = graph_to_napari_tracks(graph)\n",
    "napari_tracks_general_2d, napari_tracks_graph_general_2d, _ = graph_to_napari_tracks(\n",
    "    graph_general_2d\n",
    ")"
   ]
  },
  {
   "cell_type": "code",
   "execution_count": 12,
   "id": "602dfdc5",
   "metadata": {},
   "outputs": [
    {
     "data": {
      "text/plain": [
       "<Tracks layer 'tracks_general_2d' at 0x2041e0e1270>"
      ]
     },
     "execution_count": 12,
     "metadata": {},
     "output_type": "execute_result"
    }
   ],
   "source": [
    "import napari\n",
    "\n",
    "v = napari.Viewer()\n",
    "# v.add_image(imgs)\n",
    "v.add_labels(masks_tra)\n",
    "v.add_tracks(data=napari_tracks, graph=napari_tracks_graph)\n",
    "\n",
    "v.add_labels(masks_tra_general_2d, name=\"masks_general_2d\")\n",
    "v.add_tracks(\n",
    "    data=napari_tracks_general_2d,\n",
    "    graph=napari_tracks_graph_general_2d,\n",
    "    name=\"tracks_general_2d\",\n",
    ")"
   ]
  },
  {
   "cell_type": "code",
   "execution_count": 13,
   "id": "92d51ba2",
   "metadata": {},
   "outputs": [],
   "source": [
    "import pprint as pp\n",
    "import napari\n",
    "import numpy as np\n",
    "from tqdm import tqdm\n",
    "from traccuracy import run_metrics\n",
    "from traccuracy.loaders import load_ctc_data\n",
    "from traccuracy.matchers import CTCMatcher\n",
    "from traccuracy.metrics import CTCMetrics\n",
    "\n",
    "from divisualisation import Divisualisation\n",
    "from divisualisation.utils import load_tiff_timeseries, rescale_intensity"
   ]
  },
  {
   "cell_type": "code",
   "execution_count": 14,
   "id": "01ef8d0d",
   "metadata": {},
   "outputs": [
    {
     "name": "stderr",
     "output_type": "stream",
     "text": [
      "Loading TIFFs: 100%|██████████| 22/22 [00:00<00:00, 114.03it/s]\n",
      "Computing node attributes: 100%|██████████| 23/23 [00:00<00:00, 256.80it/s]\n",
      "INFO:traccuracy.loaders._ctc:Running CTC format checks\n",
      "Loading TIFFs: 100%|██████████| 22/22 [00:00<00:00, 82.96it/s]\n",
      "Computing node attributes: 100%|██████████| 23/23 [00:00<00:00, 265.37it/s]\n",
      "INFO:traccuracy.loaders._ctc:Running CTC format checks\n",
      "Loading TIFFs: 100%|██████████| 22/22 [00:00<00:00, 98.51it/s] \n",
      "Computing node attributes: 100%|██████████| 23/23 [00:00<00:00, 248.72it/s]\n",
      "INFO:traccuracy.loaders._ctc:Running CTC format checks\n",
      "                                                          \r"
     ]
    }
   ],
   "source": [
    "gt = load_ctc_data(\n",
    "    # DATA_PATH / f\"{VIDEO}_GT/TRA\",\n",
    "    DATA_PATH / \"TRA\",\n",
    "    # DATA_PATH / f\"{VIDEO}_GT/TRA/man_track.txt\",\n",
    "    DATA_PATH / \"TRA/man_track.txt\",\n",
    "    name=\"GT\",\n",
    ")\n",
    "pred_sam21 = load_ctc_data(\n",
    "    \"./tracked_ctc\",\n",
    "    \"./tracked_ctc/man_track.txt\",\n",
    "    name=\"res\",\n",
    ")\n",
    "pred_general_2d = load_ctc_data(\n",
    "    \"./tracked_ctc_general_2d\",\n",
    "    \"./tracked_ctc_general_2d/man_track.txt\",\n",
    "    name=\"res_general_2d\",\n",
    ")\n",
    "\n",
    "img = load_tiff_timeseries(DATA_PATH / VIDEO)"
   ]
  },
  {
   "cell_type": "code",
   "execution_count": 15,
   "id": "ce981d43",
   "metadata": {},
   "outputs": [
    {
     "name": "stderr",
     "output_type": "stream",
     "text": [
      "Rescale intensity: 100%|██████████| 23/23 [00:00<00:00, 96.11it/s]\n"
     ]
    }
   ],
   "source": [
    "img = np.stack([\n",
    "    rescale_intensity(_x, pmin=5, pmax=99.9, clip=False, subsample=1)\n",
    "    for _x in tqdm(img, desc=\"Rescale intensity\")\n",
    "])"
   ]
  },
  {
   "cell_type": "code",
   "execution_count": 16,
   "id": "f49d168e",
   "metadata": {},
   "outputs": [
    {
     "name": "stderr",
     "output_type": "stream",
     "text": [
      "Matching frames: 100%|██████████| 23/23 [00:00<00:00, 149.24it/s]\n",
      "INFO:traccuracy.matchers._base:Matched 414 out of 417 ground truth nodes.\n",
      "INFO:traccuracy.matchers._base:Matched 414 out of 414 predicted nodes.\n",
      "Evaluating nodes: 100%|██████████| 414/414 [00:00<00:00, 129604.56it/s]\n",
      "Evaluating FP edges: 100%|██████████| 408/408 [00:00<00:00, 185363.52it/s]\n",
      "Evaluating FN edges: 100%|██████████| 416/416 [00:00<00:00, 267899.66it/s]"
     ]
    },
    {
     "name": "stdout",
     "output_type": "stream",
     "text": [
      "[{'gt': 'GT',\n",
      "  'matcher': {'matching type': 'one-to-one', 'name': 'CTCMatcher'},\n",
      "  'metric': {'e_weights': {'fn': 1.5, 'fp': 1, 'ws': 1},\n",
      "             'name': 'CTCMetrics',\n",
      "             'v_weights': {'fn': 10, 'fp': 1, 'ns': 5},\n",
      "             'valid_match_types': ['one-to-one', 'many-to-one']},\n",
      "  'pred': 'res_general_2d',\n",
      "  'results': {'AOGM': 67.5,\n",
      "              'DET': 0.9928057553956835,\n",
      "              'TRA': 0.9859198998748435,\n",
      "              'fn_edges': 13,\n",
      "              'fn_nodes': 3,\n",
      "              'fp_edges': 5,\n",
      "              'fp_nodes': 0,\n",
      "              'ns_nodes': 0,\n",
      "              'ws_edges': 13},\n",
      "  'version': '0.2.0'}]\n"
     ]
    },
    {
     "name": "stderr",
     "output_type": "stream",
     "text": [
      "\n"
     ]
    }
   ],
   "source": [
    "ctc_results, ctc_matched = run_metrics(\n",
    "    gt_data=gt,\n",
    "    # pred_data=pred,\n",
    "    # gt_data=pred_sam21,\n",
    "    # pred_data=pred_sam21,\n",
    "    pred_data=pred_general_2d,\n",
    "    matcher=CTCMatcher(),\n",
    "    metrics=[CTCMetrics()],\n",
    ")\n",
    "pp.pprint(ctc_results)"
   ]
  },
  {
   "cell_type": "markdown",
   "id": "6022e2e4",
   "metadata": {},
   "source": [
    "# vanvliet/recA/151031-03\n",
    "\n",
    "## img\n",
    "\n",
    "- SAM21 vs GT, img TRA : 15 AOGM\n",
    "- general_2D vs GT, img TRA : 30 AOGM\n",
    "\n",
    "# Fluo-C2DL-Huh7\n",
    "\n",
    "## 01\n",
    "\n",
    "- SAM21 vs GT, 01 TRA : 4 AOGM\n",
    "- general_2D vs GT, 01 TRA : 4 AOGM\n",
    "\n",
    "## 02\n",
    "\n",
    "- SAM21 vs GT, 02 TRA : 20.5 AOGM\n",
    "- general_2D vs GT, 02 TRA : 24 AOGM\n",
    "\n",
    "# BF-C2DL-MuSC\n",
    "\n",
    "## 01\n",
    "\n",
    "- SAM21 vs GT, 01 ST SEG : 764 AOGM\n",
    "- general_2D vs GT, 01 ST SEG : 726 AOGM\n",
    "\n",
    "- SAM21 vs GT, 01 ERR SEG : 662 AOGM\n",
    "- general_2D vs GT, 01 ERR SEG : 776 AOGM\n",
    "\n",
    "# Fluo-N2DL-HeLa\n",
    "\n",
    "## 01\n",
    "\n",
    "- SAM21 vs GT, 01 ST SEG : 542 AOGM\n",
    "- general_2D vs GT, 01 ST SEG : 550.5 AOGM\n",
    "\n",
    "- SAM21 vs GT, 01 ERR SEG : 549.5 AOGM\n",
    "- general_2D vs GT, 01 ERR SEG : 535.5 AOGM\n",
    "\n",
    "\n",
    "## 02\n",
    "\n",
    "- SAM21 vs GT, 02 ST SEG : 805.5 AOGM\n",
    "- general_2D vs GT, 02 ST SEG : 842 AOGM\n",
    "\n",
    "- SAM21 vs GT, 02 ERR SEG : 765 AOGM\n",
    "- general_2D vs GT, 02 ERR SEG : 723 AOGM"
   ]
  },
  {
   "cell_type": "code",
   "execution_count": 17,
   "id": "382b0047",
   "metadata": {},
   "outputs": [
    {
     "data": {
      "application/vnd.microsoft.datawrangler.viewer.v0+json": {
       "columns": [
        {
         "name": "index",
         "rawType": "int64",
         "type": "integer"
        },
        {
         "name": "video_name",
         "rawType": "object",
         "type": "string"
        },
        {
         "name": "video_number",
         "rawType": "object",
         "type": "string"
        },
        {
         "name": "model",
         "rawType": "object",
         "type": "string"
        },
        {
         "name": "masks",
         "rawType": "object",
         "type": "string"
        },
        {
         "name": "AOGM",
         "rawType": "float64",
         "type": "float"
        },
        {
         "name": "video_id",
         "rawType": "object",
         "type": "string"
        },
        {
         "name": "model_condition",
         "rawType": "object",
         "type": "string"
        }
       ],
       "ref": "6a32bdb3-1b59-47fd-89d1-dddc08951534",
       "rows": [
        [
         "0",
         "vanvliet_recA_151031-03",
         "img",
         "SAM21",
         "TRA",
         "15.0",
         "vanvliet_recA_151031-03_img",
         "SAM21_TRA"
        ],
        [
         "1",
         "vanvliet_recA_151031-03",
         "img",
         "general_2D",
         "TRA",
         "30.0",
         "vanvliet_recA_151031-03_img",
         "general_2D_TRA"
        ],
        [
         "2",
         "Fluo-C2DL-Huh7",
         "01",
         "SAM21",
         "TRA",
         "4.0",
         "Fluo-C2DL-Huh7_01",
         "SAM21_TRA"
        ],
        [
         "3",
         "Fluo-C2DL-Huh7",
         "01",
         "general_2D",
         "TRA",
         "4.0",
         "Fluo-C2DL-Huh7_01",
         "general_2D_TRA"
        ],
        [
         "4",
         "Fluo-C2DL-Huh7",
         "02",
         "SAM21",
         "TRA",
         "20.5",
         "Fluo-C2DL-Huh7_02",
         "SAM21_TRA"
        ],
        [
         "5",
         "Fluo-C2DL-Huh7",
         "02",
         "general_2D",
         "TRA",
         "24.0",
         "Fluo-C2DL-Huh7_02",
         "general_2D_TRA"
        ],
        [
         "6",
         "BF-C2DL-MuSC",
         "01",
         "SAM21",
         "ST SEG",
         "764.0",
         "BF-C2DL-MuSC_01",
         "SAM21_ST SEG"
        ],
        [
         "7",
         "BF-C2DL-MuSC",
         "01",
         "general_2D",
         "ST SEG",
         "726.0",
         "BF-C2DL-MuSC_01",
         "general_2D_ST SEG"
        ],
        [
         "8",
         "BF-C2DL-MuSC",
         "01",
         "SAM21",
         "ERR SEG",
         "662.0",
         "BF-C2DL-MuSC_01",
         "SAM21_ERR SEG"
        ],
        [
         "9",
         "BF-C2DL-MuSC",
         "01",
         "general_2D",
         "ERR SEG",
         "776.0",
         "BF-C2DL-MuSC_01",
         "general_2D_ERR SEG"
        ],
        [
         "10",
         "Fluo-N2DL-HeLa",
         "01",
         "SAM21",
         "ST SEG",
         "542.0",
         "Fluo-N2DL-HeLa_01",
         "SAM21_ST SEG"
        ],
        [
         "11",
         "Fluo-N2DL-HeLa",
         "01",
         "general_2D",
         "ST SEG",
         "550.5",
         "Fluo-N2DL-HeLa_01",
         "general_2D_ST SEG"
        ],
        [
         "12",
         "Fluo-N2DL-HeLa",
         "01",
         "SAM21",
         "ERR SEG",
         "549.5",
         "Fluo-N2DL-HeLa_01",
         "SAM21_ERR SEG"
        ],
        [
         "13",
         "Fluo-N2DL-HeLa",
         "01",
         "general_2D",
         "ERR SEG",
         "535.5",
         "Fluo-N2DL-HeLa_01",
         "general_2D_ERR SEG"
        ],
        [
         "14",
         "Fluo-N2DL-HeLa",
         "02",
         "SAM21",
         "ST SEG",
         "805.5",
         "Fluo-N2DL-HeLa_02",
         "SAM21_ST SEG"
        ],
        [
         "15",
         "Fluo-N2DL-HeLa",
         "02",
         "general_2D",
         "ST SEG",
         "842.0",
         "Fluo-N2DL-HeLa_02",
         "general_2D_ST SEG"
        ],
        [
         "16",
         "Fluo-N2DL-HeLa",
         "02",
         "SAM21",
         "ERR SEG",
         "765.0",
         "Fluo-N2DL-HeLa_02",
         "SAM21_ERR SEG"
        ],
        [
         "17",
         "Fluo-N2DL-HeLa",
         "02",
         "general_2D",
         "ERR SEG",
         "723.0",
         "Fluo-N2DL-HeLa_02",
         "general_2D_ERR SEG"
        ]
       ],
       "shape": {
        "columns": 7,
        "rows": 18
       }
      },
      "text/html": [
       "<div>\n",
       "<style scoped>\n",
       "    .dataframe tbody tr th:only-of-type {\n",
       "        vertical-align: middle;\n",
       "    }\n",
       "\n",
       "    .dataframe tbody tr th {\n",
       "        vertical-align: top;\n",
       "    }\n",
       "\n",
       "    .dataframe thead th {\n",
       "        text-align: right;\n",
       "    }\n",
       "</style>\n",
       "<table border=\"1\" class=\"dataframe\">\n",
       "  <thead>\n",
       "    <tr style=\"text-align: right;\">\n",
       "      <th></th>\n",
       "      <th>video_name</th>\n",
       "      <th>video_number</th>\n",
       "      <th>model</th>\n",
       "      <th>masks</th>\n",
       "      <th>AOGM</th>\n",
       "      <th>video_id</th>\n",
       "      <th>model_condition</th>\n",
       "    </tr>\n",
       "  </thead>\n",
       "  <tbody>\n",
       "    <tr>\n",
       "      <th>0</th>\n",
       "      <td>vanvliet_recA_151031-03</td>\n",
       "      <td>img</td>\n",
       "      <td>SAM21</td>\n",
       "      <td>TRA</td>\n",
       "      <td>15.0</td>\n",
       "      <td>vanvliet_recA_151031-03_img</td>\n",
       "      <td>SAM21_TRA</td>\n",
       "    </tr>\n",
       "    <tr>\n",
       "      <th>1</th>\n",
       "      <td>vanvliet_recA_151031-03</td>\n",
       "      <td>img</td>\n",
       "      <td>general_2D</td>\n",
       "      <td>TRA</td>\n",
       "      <td>30.0</td>\n",
       "      <td>vanvliet_recA_151031-03_img</td>\n",
       "      <td>general_2D_TRA</td>\n",
       "    </tr>\n",
       "    <tr>\n",
       "      <th>2</th>\n",
       "      <td>Fluo-C2DL-Huh7</td>\n",
       "      <td>01</td>\n",
       "      <td>SAM21</td>\n",
       "      <td>TRA</td>\n",
       "      <td>4.0</td>\n",
       "      <td>Fluo-C2DL-Huh7_01</td>\n",
       "      <td>SAM21_TRA</td>\n",
       "    </tr>\n",
       "    <tr>\n",
       "      <th>3</th>\n",
       "      <td>Fluo-C2DL-Huh7</td>\n",
       "      <td>01</td>\n",
       "      <td>general_2D</td>\n",
       "      <td>TRA</td>\n",
       "      <td>4.0</td>\n",
       "      <td>Fluo-C2DL-Huh7_01</td>\n",
       "      <td>general_2D_TRA</td>\n",
       "    </tr>\n",
       "    <tr>\n",
       "      <th>4</th>\n",
       "      <td>Fluo-C2DL-Huh7</td>\n",
       "      <td>02</td>\n",
       "      <td>SAM21</td>\n",
       "      <td>TRA</td>\n",
       "      <td>20.5</td>\n",
       "      <td>Fluo-C2DL-Huh7_02</td>\n",
       "      <td>SAM21_TRA</td>\n",
       "    </tr>\n",
       "    <tr>\n",
       "      <th>5</th>\n",
       "      <td>Fluo-C2DL-Huh7</td>\n",
       "      <td>02</td>\n",
       "      <td>general_2D</td>\n",
       "      <td>TRA</td>\n",
       "      <td>24.0</td>\n",
       "      <td>Fluo-C2DL-Huh7_02</td>\n",
       "      <td>general_2D_TRA</td>\n",
       "    </tr>\n",
       "    <tr>\n",
       "      <th>6</th>\n",
       "      <td>BF-C2DL-MuSC</td>\n",
       "      <td>01</td>\n",
       "      <td>SAM21</td>\n",
       "      <td>ST SEG</td>\n",
       "      <td>764.0</td>\n",
       "      <td>BF-C2DL-MuSC_01</td>\n",
       "      <td>SAM21_ST SEG</td>\n",
       "    </tr>\n",
       "    <tr>\n",
       "      <th>7</th>\n",
       "      <td>BF-C2DL-MuSC</td>\n",
       "      <td>01</td>\n",
       "      <td>general_2D</td>\n",
       "      <td>ST SEG</td>\n",
       "      <td>726.0</td>\n",
       "      <td>BF-C2DL-MuSC_01</td>\n",
       "      <td>general_2D_ST SEG</td>\n",
       "    </tr>\n",
       "    <tr>\n",
       "      <th>8</th>\n",
       "      <td>BF-C2DL-MuSC</td>\n",
       "      <td>01</td>\n",
       "      <td>SAM21</td>\n",
       "      <td>ERR SEG</td>\n",
       "      <td>662.0</td>\n",
       "      <td>BF-C2DL-MuSC_01</td>\n",
       "      <td>SAM21_ERR SEG</td>\n",
       "    </tr>\n",
       "    <tr>\n",
       "      <th>9</th>\n",
       "      <td>BF-C2DL-MuSC</td>\n",
       "      <td>01</td>\n",
       "      <td>general_2D</td>\n",
       "      <td>ERR SEG</td>\n",
       "      <td>776.0</td>\n",
       "      <td>BF-C2DL-MuSC_01</td>\n",
       "      <td>general_2D_ERR SEG</td>\n",
       "    </tr>\n",
       "    <tr>\n",
       "      <th>10</th>\n",
       "      <td>Fluo-N2DL-HeLa</td>\n",
       "      <td>01</td>\n",
       "      <td>SAM21</td>\n",
       "      <td>ST SEG</td>\n",
       "      <td>542.0</td>\n",
       "      <td>Fluo-N2DL-HeLa_01</td>\n",
       "      <td>SAM21_ST SEG</td>\n",
       "    </tr>\n",
       "    <tr>\n",
       "      <th>11</th>\n",
       "      <td>Fluo-N2DL-HeLa</td>\n",
       "      <td>01</td>\n",
       "      <td>general_2D</td>\n",
       "      <td>ST SEG</td>\n",
       "      <td>550.5</td>\n",
       "      <td>Fluo-N2DL-HeLa_01</td>\n",
       "      <td>general_2D_ST SEG</td>\n",
       "    </tr>\n",
       "    <tr>\n",
       "      <th>12</th>\n",
       "      <td>Fluo-N2DL-HeLa</td>\n",
       "      <td>01</td>\n",
       "      <td>SAM21</td>\n",
       "      <td>ERR SEG</td>\n",
       "      <td>549.5</td>\n",
       "      <td>Fluo-N2DL-HeLa_01</td>\n",
       "      <td>SAM21_ERR SEG</td>\n",
       "    </tr>\n",
       "    <tr>\n",
       "      <th>13</th>\n",
       "      <td>Fluo-N2DL-HeLa</td>\n",
       "      <td>01</td>\n",
       "      <td>general_2D</td>\n",
       "      <td>ERR SEG</td>\n",
       "      <td>535.5</td>\n",
       "      <td>Fluo-N2DL-HeLa_01</td>\n",
       "      <td>general_2D_ERR SEG</td>\n",
       "    </tr>\n",
       "    <tr>\n",
       "      <th>14</th>\n",
       "      <td>Fluo-N2DL-HeLa</td>\n",
       "      <td>02</td>\n",
       "      <td>SAM21</td>\n",
       "      <td>ST SEG</td>\n",
       "      <td>805.5</td>\n",
       "      <td>Fluo-N2DL-HeLa_02</td>\n",
       "      <td>SAM21_ST SEG</td>\n",
       "    </tr>\n",
       "    <tr>\n",
       "      <th>15</th>\n",
       "      <td>Fluo-N2DL-HeLa</td>\n",
       "      <td>02</td>\n",
       "      <td>general_2D</td>\n",
       "      <td>ST SEG</td>\n",
       "      <td>842.0</td>\n",
       "      <td>Fluo-N2DL-HeLa_02</td>\n",
       "      <td>general_2D_ST SEG</td>\n",
       "    </tr>\n",
       "    <tr>\n",
       "      <th>16</th>\n",
       "      <td>Fluo-N2DL-HeLa</td>\n",
       "      <td>02</td>\n",
       "      <td>SAM21</td>\n",
       "      <td>ERR SEG</td>\n",
       "      <td>765.0</td>\n",
       "      <td>Fluo-N2DL-HeLa_02</td>\n",
       "      <td>SAM21_ERR SEG</td>\n",
       "    </tr>\n",
       "    <tr>\n",
       "      <th>17</th>\n",
       "      <td>Fluo-N2DL-HeLa</td>\n",
       "      <td>02</td>\n",
       "      <td>general_2D</td>\n",
       "      <td>ERR SEG</td>\n",
       "      <td>723.0</td>\n",
       "      <td>Fluo-N2DL-HeLa_02</td>\n",
       "      <td>general_2D_ERR SEG</td>\n",
       "    </tr>\n",
       "  </tbody>\n",
       "</table>\n",
       "</div>"
      ],
      "text/plain": [
       "                 video_name video_number       model    masks   AOGM  \\\n",
       "0   vanvliet_recA_151031-03          img       SAM21      TRA   15.0   \n",
       "1   vanvliet_recA_151031-03          img  general_2D      TRA   30.0   \n",
       "2            Fluo-C2DL-Huh7           01       SAM21      TRA    4.0   \n",
       "3            Fluo-C2DL-Huh7           01  general_2D      TRA    4.0   \n",
       "4            Fluo-C2DL-Huh7           02       SAM21      TRA   20.5   \n",
       "5            Fluo-C2DL-Huh7           02  general_2D      TRA   24.0   \n",
       "6              BF-C2DL-MuSC           01       SAM21   ST SEG  764.0   \n",
       "7              BF-C2DL-MuSC           01  general_2D   ST SEG  726.0   \n",
       "8              BF-C2DL-MuSC           01       SAM21  ERR SEG  662.0   \n",
       "9              BF-C2DL-MuSC           01  general_2D  ERR SEG  776.0   \n",
       "10           Fluo-N2DL-HeLa           01       SAM21   ST SEG  542.0   \n",
       "11           Fluo-N2DL-HeLa           01  general_2D   ST SEG  550.5   \n",
       "12           Fluo-N2DL-HeLa           01       SAM21  ERR SEG  549.5   \n",
       "13           Fluo-N2DL-HeLa           01  general_2D  ERR SEG  535.5   \n",
       "14           Fluo-N2DL-HeLa           02       SAM21   ST SEG  805.5   \n",
       "15           Fluo-N2DL-HeLa           02  general_2D   ST SEG  842.0   \n",
       "16           Fluo-N2DL-HeLa           02       SAM21  ERR SEG  765.0   \n",
       "17           Fluo-N2DL-HeLa           02  general_2D  ERR SEG  723.0   \n",
       "\n",
       "                       video_id     model_condition  \n",
       "0   vanvliet_recA_151031-03_img           SAM21_TRA  \n",
       "1   vanvliet_recA_151031-03_img      general_2D_TRA  \n",
       "2             Fluo-C2DL-Huh7_01           SAM21_TRA  \n",
       "3             Fluo-C2DL-Huh7_01      general_2D_TRA  \n",
       "4             Fluo-C2DL-Huh7_02           SAM21_TRA  \n",
       "5             Fluo-C2DL-Huh7_02      general_2D_TRA  \n",
       "6               BF-C2DL-MuSC_01        SAM21_ST SEG  \n",
       "7               BF-C2DL-MuSC_01   general_2D_ST SEG  \n",
       "8               BF-C2DL-MuSC_01       SAM21_ERR SEG  \n",
       "9               BF-C2DL-MuSC_01  general_2D_ERR SEG  \n",
       "10            Fluo-N2DL-HeLa_01        SAM21_ST SEG  \n",
       "11            Fluo-N2DL-HeLa_01   general_2D_ST SEG  \n",
       "12            Fluo-N2DL-HeLa_01       SAM21_ERR SEG  \n",
       "13            Fluo-N2DL-HeLa_01  general_2D_ERR SEG  \n",
       "14            Fluo-N2DL-HeLa_02        SAM21_ST SEG  \n",
       "15            Fluo-N2DL-HeLa_02   general_2D_ST SEG  \n",
       "16            Fluo-N2DL-HeLa_02       SAM21_ERR SEG  \n",
       "17            Fluo-N2DL-HeLa_02  general_2D_ERR SEG  "
      ]
     },
     "execution_count": 17,
     "metadata": {},
     "output_type": "execute_result"
    }
   ],
   "source": [
    "import pandas as pd\n",
    "\n",
    "data = {\n",
    "    \"vanvliet_recA_151031-03\": {\n",
    "        \"img\": [\n",
    "            {\"model\": \"SAM21\", \"masks\": \"TRA\", \"AOGM\": 15.0},\n",
    "            {\"model\": \"general_2D\", \"masks\": \"TRA\", \"AOGM\": 30.0},\n",
    "        ],\n",
    "    },\n",
    "    \"Fluo-C2DL-Huh7\": {\n",
    "        \"01\": [\n",
    "            {\"model\": \"SAM21\", \"masks\": \"TRA\", \"AOGM\": 4},\n",
    "            {\"model\": \"general_2D\", \"masks\": \"TRA\", \"AOGM\": 4},\n",
    "        ],\n",
    "        \"02\": [\n",
    "            {\"model\": \"SAM21\", \"masks\": \"TRA\", \"AOGM\": 20.5},\n",
    "            {\"model\": \"general_2D\", \"masks\": \"TRA\", \"AOGM\": 24},\n",
    "        ],\n",
    "    },\n",
    "    \"BF-C2DL-MuSC\": {\n",
    "        \"01\": [\n",
    "            {\"model\": \"SAM21\", \"masks\": \"ST SEG\", \"AOGM\": 764},\n",
    "            {\"model\": \"general_2D\", \"masks\": \"ST SEG\", \"AOGM\": 726},\n",
    "            {\"model\": \"SAM21\", \"masks\": \"ERR SEG\", \"AOGM\": 662},\n",
    "            {\"model\": \"general_2D\", \"masks\": \"ERR SEG\", \"AOGM\": 776},\n",
    "        ],\n",
    "    },\n",
    "    \"Fluo-N2DL-HeLa\": {\n",
    "        \"01\": [\n",
    "            {\"model\": \"SAM21\", \"masks\": \"ST SEG\", \"AOGM\": 542},\n",
    "            {\"model\": \"general_2D\", \"masks\": \"ST SEG\", \"AOGM\": 550.5},\n",
    "            {\"model\": \"SAM21\", \"masks\": \"ERR SEG\", \"AOGM\": 549.5},\n",
    "            {\"model\": \"general_2D\", \"masks\": \"ERR SEG\", \"AOGM\": 535.5},\n",
    "        ],\n",
    "        \"02\": [\n",
    "            {\"model\": \"SAM21\", \"masks\": \"ST SEG\", \"AOGM\": 805.5},\n",
    "            {\"model\": \"general_2D\", \"masks\": \"ST SEG\", \"AOGM\": 842},\n",
    "            {\"model\": \"SAM21\", \"masks\": \"ERR SEG\", \"AOGM\": 765},\n",
    "            {\"model\": \"general_2D\", \"masks\": \"ERR SEG\", \"AOGM\": 723},\n",
    "        ],\n",
    "    },\n",
    "}\n",
    "\n",
    "rows = []\n",
    "for video_name, videos in data.items():\n",
    "    for video_number, entries in videos.items():\n",
    "        for entry in entries:\n",
    "            rows.append({\n",
    "                \"video_name\": video_name,\n",
    "                \"video_number\": video_number,\n",
    "                \"model\": entry.get(\"model\"),\n",
    "                \"masks\": entry.get(\"masks\"),\n",
    "                \"AOGM\": entry.get(\"AOGM\"),\n",
    "            })\n",
    "\n",
    "df = pd.DataFrame(rows)\n",
    "df[\"AOGM\"] = pd.to_numeric(df[\"AOGM\"])\n",
    "df[\"video_id\"] = df[\"video_name\"] + \"_\" + df[\"video_number\"]\n",
    "df[\"model_condition\"] = df[\"model\"] + \"_\" + df[\"masks\"]\n",
    "df"
   ]
  },
  {
   "cell_type": "code",
   "execution_count": 18,
   "id": "7ffdd9ed",
   "metadata": {},
   "outputs": [
    {
     "data": {
      "application/vnd.microsoft.datawrangler.viewer.v0+json": {
       "columns": [
        {
         "name": "index",
         "rawType": "int64",
         "type": "integer"
        },
        {
         "name": "video_name",
         "rawType": "object",
         "type": "string"
        },
        {
         "name": "video_number",
         "rawType": "object",
         "type": "string"
        },
        {
         "name": "model",
         "rawType": "object",
         "type": "string"
        },
        {
         "name": "masks",
         "rawType": "object",
         "type": "string"
        },
        {
         "name": "AOGM",
         "rawType": "float64",
         "type": "float"
        },
        {
         "name": "video_id",
         "rawType": "object",
         "type": "string"
        },
        {
         "name": "model_condition",
         "rawType": "object",
         "type": "string"
        }
       ],
       "ref": "f6e73205-0567-4a23-8fbd-9e1da9ae0841",
       "rows": [
        [
         "0",
         "vanvliet_recA_151031-03",
         "img",
         "SAM21",
         "TRA",
         "15.0",
         "vanvliet_recA_151031-03_img",
         "SAM21_TRA"
        ],
        [
         "1",
         "vanvliet_recA_151031-03",
         "img",
         "general_2D",
         "TRA",
         "30.0",
         "vanvliet_recA_151031-03_img",
         "general_2D_TRA"
        ],
        [
         "2",
         "Fluo-C2DL-Huh7",
         "01",
         "SAM21",
         "TRA",
         "4.0",
         "Fluo-C2DL-Huh7_01",
         "SAM21_TRA"
        ],
        [
         "3",
         "Fluo-C2DL-Huh7",
         "01",
         "general_2D",
         "TRA",
         "4.0",
         "Fluo-C2DL-Huh7_01",
         "general_2D_TRA"
        ],
        [
         "4",
         "Fluo-C2DL-Huh7",
         "02",
         "SAM21",
         "TRA",
         "20.5",
         "Fluo-C2DL-Huh7_02",
         "SAM21_TRA"
        ],
        [
         "5",
         "Fluo-C2DL-Huh7",
         "02",
         "general_2D",
         "TRA",
         "24.0",
         "Fluo-C2DL-Huh7_02",
         "general_2D_TRA"
        ],
        [
         "6",
         "BF-C2DL-MuSC",
         "01",
         "SAM21",
         "ST SEG",
         "764.0",
         "BF-C2DL-MuSC_01",
         "SAM21_ST SEG"
        ],
        [
         "7",
         "BF-C2DL-MuSC",
         "01",
         "general_2D",
         "ST SEG",
         "726.0",
         "BF-C2DL-MuSC_01",
         "general_2D_ST SEG"
        ],
        [
         "10",
         "Fluo-N2DL-HeLa",
         "01",
         "SAM21",
         "ST SEG",
         "542.0",
         "Fluo-N2DL-HeLa_01",
         "SAM21_ST SEG"
        ],
        [
         "11",
         "Fluo-N2DL-HeLa",
         "01",
         "general_2D",
         "ST SEG",
         "550.5",
         "Fluo-N2DL-HeLa_01",
         "general_2D_ST SEG"
        ],
        [
         "14",
         "Fluo-N2DL-HeLa",
         "02",
         "SAM21",
         "ST SEG",
         "805.5",
         "Fluo-N2DL-HeLa_02",
         "SAM21_ST SEG"
        ],
        [
         "15",
         "Fluo-N2DL-HeLa",
         "02",
         "general_2D",
         "ST SEG",
         "842.0",
         "Fluo-N2DL-HeLa_02",
         "general_2D_ST SEG"
        ]
       ],
       "shape": {
        "columns": 7,
        "rows": 12
       }
      },
      "text/html": [
       "<div>\n",
       "<style scoped>\n",
       "    .dataframe tbody tr th:only-of-type {\n",
       "        vertical-align: middle;\n",
       "    }\n",
       "\n",
       "    .dataframe tbody tr th {\n",
       "        vertical-align: top;\n",
       "    }\n",
       "\n",
       "    .dataframe thead th {\n",
       "        text-align: right;\n",
       "    }\n",
       "</style>\n",
       "<table border=\"1\" class=\"dataframe\">\n",
       "  <thead>\n",
       "    <tr style=\"text-align: right;\">\n",
       "      <th></th>\n",
       "      <th>video_name</th>\n",
       "      <th>video_number</th>\n",
       "      <th>model</th>\n",
       "      <th>masks</th>\n",
       "      <th>AOGM</th>\n",
       "      <th>video_id</th>\n",
       "      <th>model_condition</th>\n",
       "    </tr>\n",
       "  </thead>\n",
       "  <tbody>\n",
       "    <tr>\n",
       "      <th>0</th>\n",
       "      <td>vanvliet_recA_151031-03</td>\n",
       "      <td>img</td>\n",
       "      <td>SAM21</td>\n",
       "      <td>TRA</td>\n",
       "      <td>15.0</td>\n",
       "      <td>vanvliet_recA_151031-03_img</td>\n",
       "      <td>SAM21_TRA</td>\n",
       "    </tr>\n",
       "    <tr>\n",
       "      <th>1</th>\n",
       "      <td>vanvliet_recA_151031-03</td>\n",
       "      <td>img</td>\n",
       "      <td>general_2D</td>\n",
       "      <td>TRA</td>\n",
       "      <td>30.0</td>\n",
       "      <td>vanvliet_recA_151031-03_img</td>\n",
       "      <td>general_2D_TRA</td>\n",
       "    </tr>\n",
       "    <tr>\n",
       "      <th>2</th>\n",
       "      <td>Fluo-C2DL-Huh7</td>\n",
       "      <td>01</td>\n",
       "      <td>SAM21</td>\n",
       "      <td>TRA</td>\n",
       "      <td>4.0</td>\n",
       "      <td>Fluo-C2DL-Huh7_01</td>\n",
       "      <td>SAM21_TRA</td>\n",
       "    </tr>\n",
       "    <tr>\n",
       "      <th>3</th>\n",
       "      <td>Fluo-C2DL-Huh7</td>\n",
       "      <td>01</td>\n",
       "      <td>general_2D</td>\n",
       "      <td>TRA</td>\n",
       "      <td>4.0</td>\n",
       "      <td>Fluo-C2DL-Huh7_01</td>\n",
       "      <td>general_2D_TRA</td>\n",
       "    </tr>\n",
       "    <tr>\n",
       "      <th>4</th>\n",
       "      <td>Fluo-C2DL-Huh7</td>\n",
       "      <td>02</td>\n",
       "      <td>SAM21</td>\n",
       "      <td>TRA</td>\n",
       "      <td>20.5</td>\n",
       "      <td>Fluo-C2DL-Huh7_02</td>\n",
       "      <td>SAM21_TRA</td>\n",
       "    </tr>\n",
       "    <tr>\n",
       "      <th>5</th>\n",
       "      <td>Fluo-C2DL-Huh7</td>\n",
       "      <td>02</td>\n",
       "      <td>general_2D</td>\n",
       "      <td>TRA</td>\n",
       "      <td>24.0</td>\n",
       "      <td>Fluo-C2DL-Huh7_02</td>\n",
       "      <td>general_2D_TRA</td>\n",
       "    </tr>\n",
       "    <tr>\n",
       "      <th>6</th>\n",
       "      <td>BF-C2DL-MuSC</td>\n",
       "      <td>01</td>\n",
       "      <td>SAM21</td>\n",
       "      <td>ST SEG</td>\n",
       "      <td>764.0</td>\n",
       "      <td>BF-C2DL-MuSC_01</td>\n",
       "      <td>SAM21_ST SEG</td>\n",
       "    </tr>\n",
       "    <tr>\n",
       "      <th>7</th>\n",
       "      <td>BF-C2DL-MuSC</td>\n",
       "      <td>01</td>\n",
       "      <td>general_2D</td>\n",
       "      <td>ST SEG</td>\n",
       "      <td>726.0</td>\n",
       "      <td>BF-C2DL-MuSC_01</td>\n",
       "      <td>general_2D_ST SEG</td>\n",
       "    </tr>\n",
       "    <tr>\n",
       "      <th>10</th>\n",
       "      <td>Fluo-N2DL-HeLa</td>\n",
       "      <td>01</td>\n",
       "      <td>SAM21</td>\n",
       "      <td>ST SEG</td>\n",
       "      <td>542.0</td>\n",
       "      <td>Fluo-N2DL-HeLa_01</td>\n",
       "      <td>SAM21_ST SEG</td>\n",
       "    </tr>\n",
       "    <tr>\n",
       "      <th>11</th>\n",
       "      <td>Fluo-N2DL-HeLa</td>\n",
       "      <td>01</td>\n",
       "      <td>general_2D</td>\n",
       "      <td>ST SEG</td>\n",
       "      <td>550.5</td>\n",
       "      <td>Fluo-N2DL-HeLa_01</td>\n",
       "      <td>general_2D_ST SEG</td>\n",
       "    </tr>\n",
       "    <tr>\n",
       "      <th>14</th>\n",
       "      <td>Fluo-N2DL-HeLa</td>\n",
       "      <td>02</td>\n",
       "      <td>SAM21</td>\n",
       "      <td>ST SEG</td>\n",
       "      <td>805.5</td>\n",
       "      <td>Fluo-N2DL-HeLa_02</td>\n",
       "      <td>SAM21_ST SEG</td>\n",
       "    </tr>\n",
       "    <tr>\n",
       "      <th>15</th>\n",
       "      <td>Fluo-N2DL-HeLa</td>\n",
       "      <td>02</td>\n",
       "      <td>general_2D</td>\n",
       "      <td>ST SEG</td>\n",
       "      <td>842.0</td>\n",
       "      <td>Fluo-N2DL-HeLa_02</td>\n",
       "      <td>general_2D_ST SEG</td>\n",
       "    </tr>\n",
       "  </tbody>\n",
       "</table>\n",
       "</div>"
      ],
      "text/plain": [
       "                 video_name video_number       model   masks   AOGM  \\\n",
       "0   vanvliet_recA_151031-03          img       SAM21     TRA   15.0   \n",
       "1   vanvliet_recA_151031-03          img  general_2D     TRA   30.0   \n",
       "2            Fluo-C2DL-Huh7           01       SAM21     TRA    4.0   \n",
       "3            Fluo-C2DL-Huh7           01  general_2D     TRA    4.0   \n",
       "4            Fluo-C2DL-Huh7           02       SAM21     TRA   20.5   \n",
       "5            Fluo-C2DL-Huh7           02  general_2D     TRA   24.0   \n",
       "6              BF-C2DL-MuSC           01       SAM21  ST SEG  764.0   \n",
       "7              BF-C2DL-MuSC           01  general_2D  ST SEG  726.0   \n",
       "10           Fluo-N2DL-HeLa           01       SAM21  ST SEG  542.0   \n",
       "11           Fluo-N2DL-HeLa           01  general_2D  ST SEG  550.5   \n",
       "14           Fluo-N2DL-HeLa           02       SAM21  ST SEG  805.5   \n",
       "15           Fluo-N2DL-HeLa           02  general_2D  ST SEG  842.0   \n",
       "\n",
       "                       video_id    model_condition  \n",
       "0   vanvliet_recA_151031-03_img          SAM21_TRA  \n",
       "1   vanvliet_recA_151031-03_img     general_2D_TRA  \n",
       "2             Fluo-C2DL-Huh7_01          SAM21_TRA  \n",
       "3             Fluo-C2DL-Huh7_01     general_2D_TRA  \n",
       "4             Fluo-C2DL-Huh7_02          SAM21_TRA  \n",
       "5             Fluo-C2DL-Huh7_02     general_2D_TRA  \n",
       "6               BF-C2DL-MuSC_01       SAM21_ST SEG  \n",
       "7               BF-C2DL-MuSC_01  general_2D_ST SEG  \n",
       "10            Fluo-N2DL-HeLa_01       SAM21_ST SEG  \n",
       "11            Fluo-N2DL-HeLa_01  general_2D_ST SEG  \n",
       "14            Fluo-N2DL-HeLa_02       SAM21_ST SEG  \n",
       "15            Fluo-N2DL-HeLa_02  general_2D_ST SEG  "
      ]
     },
     "execution_count": 18,
     "metadata": {},
     "output_type": "execute_result"
    }
   ],
   "source": [
    "df[(df[\"masks\"] == \"ST SEG\") | (df[\"masks\"] == \"TRA\")]"
   ]
  },
  {
   "cell_type": "code",
   "execution_count": 19,
   "id": "87bc1eba",
   "metadata": {},
   "outputs": [],
   "source": [
    "df.to_csv(\"model_comparison_results.csv\", index=False)"
   ]
  },
  {
   "cell_type": "code",
   "execution_count": 20,
   "id": "fcb9567d",
   "metadata": {},
   "outputs": [],
   "source": [
    "import seaborn as sns\n",
    "import matplotlib.pyplot as plt"
   ]
  },
  {
   "cell_type": "code",
   "execution_count": 21,
   "id": "4ce2552e",
   "metadata": {},
   "outputs": [
    {
     "data": {
      "image/png": "[encoded data removed]",
      "text/plain": [
       "<Figure size 640x480 with 1 Axes>"
      ]
     },
     "metadata": {},
     "output_type": "display_data"
    }
   ],
   "source": [
    "df_pivot = df.pivot_table(\n",
    "    index=[\"video_id\", \"masks\"], columns=\"model\", values=\"AOGM\"\n",
    ").reset_index()\n",
    "\n",
    "df_pivot = df_pivot.dropna(subset=[\"SAM21\", \"general_2D\"])\n",
    "df_pivot = df_pivot[df_pivot[\"masks\"] != \"TRA\"]\n",
    "\n",
    "sns.scatterplot(\n",
    "    data=df_pivot,\n",
    "    x=\"SAM21\",\n",
    "    y=\"general_2D\",\n",
    "    hue=\"masks\",\n",
    "    style=\"video_id\",\n",
    "    s=100,\n",
    "    alpha=0.7,\n",
    ")\n",
    "plt.xlabel(\"AOGM (SAM21)\")\n",
    "plt.ylabel(\"AOGM (general_2D)\")\n",
    "plt.axline((0, 0), slope=1, color=\"gray\", linestyle=\"--\", linewidth=0.8)\n",
    "plt.xlim(\n",
    "    df_pivot[[\"SAM21\", \"general_2D\"]].min().min() * 0.9,\n",
    "    df_pivot[[\"SAM21\", \"general_2D\"]].max().max() * 1.1,\n",
    ")\n",
    "plt.ylim(\n",
    "    df_pivot[[\"SAM21\", \"general_2D\"]].min().min() * 0.9,\n",
    "    df_pivot[[\"SAM21\", \"general_2D\"]].max().max() * 1.1,\n",
    ")\n",
    "plt.gca().set_aspect(\"auto\")\n",
    "# write in the lower right corner : \"General-2D better\" and in the upper left corner \"SAM21 better\"\n",
    "plt.text(\n",
    "    df_pivot[[\"SAM21\", \"general_2D\"]].max().max() * 0.9,\n",
    "    df_pivot[[\"SAM21\", \"general_2D\"]].min().min(),\n",
    "    \"General-2D performs\\nfavorably\",\n",
    "    color=\"gray\",\n",
    "    fontsize=10,\n",
    ")\n",
    "plt.text(\n",
    "    df_pivot[[\"SAM21\", \"general_2D\"]].min().min(),\n",
    "    df_pivot[[\"SAM21\", \"general_2D\"]].max().max() * 1,\n",
    "    \"SAM 2.1 performs\\nfavorably\",\n",
    "    color=\"gray\",\n",
    "    fontsize=10,\n",
    ")\n",
    "plt.legend(bbox_to_anchor=(1.05, 1), loc=\"upper left\", borderaxespad=0.0)\n",
    "plt.show()"
   ]
  },
  {
   "cell_type": "code",
   "execution_count": 22,
   "id": "2c84919c",
   "metadata": {},
   "outputs": [
    {
     "data": {
      "image/png": "[encoded data removed]",
      "text/plain": [
       "<Figure size 640x480 with 1 Axes>"
      ]
     },
     "metadata": {},
     "output_type": "display_data"
    }
   ],
   "source": [
    "df_pivot = df.pivot_table(\n",
    "    index=[\"video_id\", \"masks\"], columns=\"model\", values=\"AOGM\"\n",
    ").reset_index()\n",
    "\n",
    "df_pivot = df_pivot.dropna(subset=[\"SAM21\", \"general_2D\"])\n",
    "df_pivot = df_pivot[df_pivot[\"masks\"] == \"TRA\"]\n",
    "\n",
    "sns.scatterplot(\n",
    "    data=df_pivot,\n",
    "    x=\"SAM21\",\n",
    "    y=\"general_2D\",\n",
    "    hue=\"masks\",\n",
    "    style=\"video_id\",\n",
    "    s=100,\n",
    "    alpha=0.7,\n",
    ")\n",
    "plt.xlabel(\"AOGM (SAM21)\")\n",
    "plt.ylabel(\"AOGM (general_2D)\")\n",
    "plt.axline((0, 0), slope=1, color=\"gray\", linestyle=\"--\", linewidth=0.8)\n",
    "plt.xlim(\n",
    "    df_pivot[[\"SAM21\", \"general_2D\"]].min().min() * 0.9,\n",
    "    df_pivot[[\"SAM21\", \"general_2D\"]].max().max() * 1.1,\n",
    ")\n",
    "plt.ylim(\n",
    "    df_pivot[[\"SAM21\", \"general_2D\"]].min().min() * 0.9,\n",
    "    df_pivot[[\"SAM21\", \"general_2D\"]].max().max() * 1.1,\n",
    ")\n",
    "plt.gca().set_aspect(\"auto\")\n",
    "plt.text(\n",
    "    df_pivot[[\"SAM21\", \"general_2D\"]].max().max() * 0.8,\n",
    "    df_pivot[[\"SAM21\", \"general_2D\"]].min().min(),\n",
    "    \"General-2D performs\\nfavorably\",\n",
    "    color=\"gray\",\n",
    "    fontsize=10,\n",
    ")\n",
    "plt.text(\n",
    "    df_pivot[[\"SAM21\", \"general_2D\"]].min().min(),\n",
    "    df_pivot[[\"SAM21\", \"general_2D\"]].max().max() * 1,\n",
    "    \"SAM 2.1 performs\\nfavorably\",\n",
    "    color=\"gray\",\n",
    "    fontsize=10,\n",
    ")\n",
    "plt.legend(bbox_to_anchor=(1.05, 1), loc=\"upper left\", borderaxespad=0.0)\n",
    "plt.show()"
   ]
  },
  {
   "cell_type": "code",
   "execution_count": 23,
   "id": "48129daf",
   "metadata": {},
   "outputs": [
    {
     "name": "stderr",
     "output_type": "stream",
     "text": [
      "100%|██████████| 183/183 [00:00<00:00, 180559.31it/s]\n",
      "INFO:divisualisation.divisualisation:Adding gt tracks\n"
     ]
    },
    {
     "name": "stderr",
     "output_type": "stream",
     "text": [
      "INFO:OpenGL.acceleratesupport:No OpenGL_accelerate module loaded: No module named 'OpenGL_accelerate'\n"
     ]
    }
   ],
   "source": [
    "gt_graph = ctc_matched.gt_graph\n",
    "pred_graph = ctc_matched.pred_graph\n",
    "\n",
    "v = napari.current_viewer()\n",
    "if v is not None:\n",
    "    v.close()\n",
    "v = napari.Viewer()\n",
    "for layer in v.layers:\n",
    "    v.layers.remove(layer)\n",
    "v.theme = \"dark\"\n",
    "\n",
    "divis = Divisualisation(\n",
    "    z_scale=1,\n",
    "    time_scale=12,\n",
    "    tracks_width=2,\n",
    ")\n",
    "\n",
    "v = divis.visualize_gt(\n",
    "    v,\n",
    "    x=img,\n",
    "    # masks=pred.segmentation,\n",
    "    masks=pred_sam21.segmentation,\n",
    "    # networkx graph at traccuracy.TrackingGraph.graph\n",
    "    graph=gt_graph.graph,\n",
    ")\n",
    "\n",
    "v = divis.visualize_edge_errors(\n",
    "    viewer=v,\n",
    "    gt_graph=gt_graph,\n",
    "    pred_graph=pred_graph,\n",
    "    # masks_original=gt.segmentation,\n",
    "    # masks_tracked=pred.segmentation,\n",
    "    masks_original=pred_sam21.segmentation,\n",
    "    masks_tracked=pred_general_2d.segmentation,\n",
    ")"
   ]
  },
  {
   "cell_type": "code",
   "execution_count": null,
   "id": "247e3c58",
   "metadata": {},
   "outputs": [],
   "source": []
  }
 ],
 "metadata": {
  "kernelspec": {
   "display_name": "tastra",
   "language": "python",
   "name": "python3"
  },
  "language_info": {
   "codemirror_mode": {
    "name": "ipython",
    "version": 3
   },
   "file_extension": ".py",
   "mimetype": "text/x-python",
   "name": "python",
   "nbconvert_exporter": "python",
   "pygments_lexer": "ipython3",
   "version": "3.10.16"
  }
 },
 "nbformat": 4,
 "nbformat_minor": 5
}
