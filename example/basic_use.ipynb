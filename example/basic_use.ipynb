{
 "cells": [
  {
   "cell_type": "code",
   "execution_count": 1,
   "id": "e50a23c6",
   "metadata": {},
   "outputs": [
    {
     "name": "stderr",
     "output_type": "stream",
     "text": [
      "c:\\Users\\Cyril\\anaconda3\\envs\\tastra\\lib\\site-packages\\tqdm\\auto.py:21: TqdmWarning: IProgress not found. Please update jupyter and ipywidgets. See https://ipywidgets.readthedocs.io/en/stable/user_install.html\n",
      "  from .autonotebook import tqdm as notebook_tqdm\n"
     ]
    },
    {
     "name": "stdout",
     "output_type": "stream",
     "text": [
      "\n",
      "\n",
      "Welcome to CellposeSAM, cellpose v\n",
      "cellpose version: \t4.0.3.dev23+gde041ff \n",
      "platform:       \twin32 \n",
      "python version: \t3.10.16 \n",
      "torch version:  \t2.6.0! The neural network component of\n",
      "CPSAM is much larger than in previous versions and CPU excution is slow. \n",
      "We encourage users to use GPU/MPS if available. \n",
      "\n",
      "\n"
     ]
    }
   ],
   "source": [
    "from pathlib import Path\n",
    "\n",
    "from trackastra.model import Trackastra"
   ]
  },
  {
   "cell_type": "code",
   "execution_count": 2,
   "id": "27c47be4",
   "metadata": {},
   "outputs": [],
   "source": [
    "# model_path = Path(r\"C:\\Users\\Cyril\\Desktop\\Code\\thesis_misc\\eval_scripts\\BENCHMARK\\general\\RUNS\\2025-07-22_12-00-55_zih_general_v4_sam21_aug\")\n",
    "model_path = Path(\n",
    "    r\"C:\\Users\\Cyril\\Desktop\\Code\\thesis_misc\\eval_scripts\\BENCHMARK\\bacteria\\RUNS\\2025-06-24_20-10-57_vanvliet_sam21_aug_norm\"\n",
    ")"
   ]
  },
  {
   "cell_type": "code",
   "execution_count": 3,
   "id": "229ce517",
   "metadata": {},
   "outputs": [],
   "source": [
    "DATA_PATH = Path(\n",
    "    r\"C:\\Users\\Cyril\\Desktop\\Code\\thesis_misc\\CTC_DATA\\vanvliet\\rpsM\\151029_E1-1\"\n",
    ")"
   ]
  },
  {
   "cell_type": "code",
   "execution_count": 4,
   "id": "2a92ffbd",
   "metadata": {},
   "outputs": [
    {
     "name": "stderr",
     "output_type": "stream",
     "text": [
      "INFO:trackastra.model.model:Loading model state from C:\\Users\\Cyril\\Desktop\\Code\\thesis_misc\\eval_scripts\\BENCHMARK\\bacteria\\RUNS\\2025-06-24_20-10-57_vanvliet_sam21_aug_norm\\model.pt\n",
      "INFO:trackastra.model.model_api:Using device cuda\n",
      "INFO:trackastra.model.model_api:Default batch size = 4 for model on cuda.\n"
     ]
    }
   ],
   "source": [
    "model = Trackastra.from_folder(model_path)"
   ]
  },
  {
   "cell_type": "code",
   "execution_count": 5,
   "id": "5c151f6d",
   "metadata": {},
   "outputs": [
    {
     "name": "stderr",
     "output_type": "stream",
     "text": [
      "INFO:trackastra_pretrained_feats.pretrained_features:Using model facebook/sam2.1-hiera-base-plus with mode mean_patches_exact for pretrained feature extraction.\n",
      "INFO:root:Loaded checkpoint sucessfully\n",
      "INFO:trackastra.model.model_api:Predicting weights for candidate graph\n",
      "INFO:trackastra.data.wrfeat:Extracting features from 53 frames.\n",
      "INFO:trackastra.model.model_api:Building windows                     \n",
      "Building windows: 100%|██████████| 50/50 [00:00<00:00, 3439.70it/s]\n",
      "INFO:trackastra.model.model_api:Predicting windows\n",
      "Computing associations: 100%|██████████| 13/13 [00:01<00:00, 10.68it/s]\n",
      "INFO:trackastra.model.model_api:Running greedy tracker\n",
      "INFO:trackastra.tracking.tracking:Build candidate graph with delta_t=1\n",
      "INFO:trackastra.tracking.tracking:Added 3519 vertices, 3553 edges                         \n",
      "INFO:trackastra.tracking.tracking:Running greedy tracker\n",
      "Greedily matched edges:  99%|█████████▉| 3530/3553 [00:00<00:00, 95109.55it/s]\n"
     ]
    }
   ],
   "source": [
    "graph, masks_tra = model.track_from_disk(DATA_PATH / \"img\", DATA_PATH / \"TRA\")"
   ]
  },
  {
   "cell_type": "code",
   "execution_count": 6,
   "id": "d621c4a8",
   "metadata": {},
   "outputs": [],
   "source": [
    "from trackastra.tracking import graph_to_ctc, graph_to_napari_tracks"
   ]
  },
  {
   "cell_type": "code",
   "execution_count": 7,
   "id": "8ff855b5",
   "metadata": {},
   "outputs": [
    {
     "name": "stderr",
     "output_type": "stream",
     "text": [
      "Converting graph to CTC results: 100%|██████████| 714/714 [00:00<00:00, 7140.59it/s]\n",
      "Saving masks: 100%|██████████| 53/53 [00:00<00:00, 167.96it/s]\n"
     ]
    }
   ],
   "source": [
    "ctc_tracks, ctc_masks = graph_to_ctc(\n",
    "    graph,\n",
    "    masks_tra,\n",
    "    outdir=\"tracked_ctc\",\n",
    ")"
   ]
  },
  {
   "cell_type": "code",
   "execution_count": 8,
   "id": "581a4587",
   "metadata": {},
   "outputs": [
    {
     "name": "stderr",
     "output_type": "stream",
     "text": [
      "100%|██████████| 714/714 [00:00<00:00, 5084436.43it/s]\n"
     ]
    }
   ],
   "source": [
    "napari_tracks, napari_tracks_graph, _ = graph_to_napari_tracks(graph)"
   ]
  },
  {
   "cell_type": "code",
   "execution_count": 9,
   "id": "a5474fea",
   "metadata": {},
   "outputs": [
    {
     "data": {
      "text/plain": [
       "<Tracks layer 'napari_tracks' at 0x21e8f5b62c0>"
      ]
     },
     "execution_count": 9,
     "metadata": {},
     "output_type": "execute_result"
    }
   ],
   "source": [
    "import napari\n",
    "\n",
    "v = napari.Viewer()\n",
    "# v.add_image(imgs)\n",
    "v.add_labels(masks_tra)\n",
    "v.add_tracks(data=napari_tracks, graph=napari_tracks_graph)"
   ]
  },
  {
   "cell_type": "code",
   "execution_count": 10,
   "id": "7ec74194",
   "metadata": {},
   "outputs": [],
   "source": [
    "import pprint as pp\n",
    "import napari\n",
    "import numpy as np\n",
    "from tqdm import tqdm\n",
    "from traccuracy import run_metrics\n",
    "from traccuracy.loaders import load_ctc_data\n",
    "from traccuracy.matchers import CTCMatcher\n",
    "from traccuracy.metrics import CTCMetrics\n",
    "\n",
    "from divisualisation import Divisualisation\n",
    "from divisualisation.utils import load_tiff_timeseries, rescale_intensity"
   ]
  },
  {
   "cell_type": "code",
   "execution_count": 11,
   "id": "a43ee248",
   "metadata": {},
   "outputs": [
    {
     "name": "stderr",
     "output_type": "stream",
     "text": [
      "Loading TIFFs:   0%|          | 0/52 [00:00<?, ?it/s]"
     ]
    },
    {
     "name": "stderr",
     "output_type": "stream",
     "text": [
      "Loading TIFFs: 100%|██████████| 52/52 [00:00<00:00, 121.79it/s]\n",
      "Computing node attributes: 100%|██████████| 53/53 [00:00<00:00, 99.91it/s] \n",
      "INFO:traccuracy.loaders._ctc:Running CTC format checks\n",
      "Loading TIFFs: 100%|██████████| 52/52 [00:00<00:00, 87.06it/s]\n",
      "Computing node attributes: 100%|██████████| 53/53 [00:00<00:00, 95.92it/s] \n",
      "INFO:traccuracy.loaders._ctc:Running CTC format checks\n",
      "                                                          \r"
     ]
    }
   ],
   "source": [
    "gt = load_ctc_data(\n",
    "    DATA_PATH / \"TRA\",\n",
    "    DATA_PATH / \"TRA/man_track.txt\",\n",
    "    name=\"GT\",\n",
    ")\n",
    "pred = load_ctc_data(\n",
    "    \"./tracked_ctc\",\n",
    "    \"./tracked_ctc/man_track.txt\",\n",
    "    name=\"res\",\n",
    ")\n",
    "\n",
    "img = load_tiff_timeseries(DATA_PATH / \"img\")"
   ]
  },
  {
   "cell_type": "code",
   "execution_count": 12,
   "id": "3232dce2",
   "metadata": {},
   "outputs": [
    {
     "name": "stderr",
     "output_type": "stream",
     "text": [
      "Rescale intensity: 100%|██████████| 53/53 [00:01<00:00, 49.59it/s]\n",
      "Matching frames: 100%|██████████| 53/53 [00:01<00:00, 49.20it/s] \n",
      "INFO:traccuracy.matchers._base:Matched 3519 out of 3519 ground truth nodes.\n",
      "INFO:traccuracy.matchers._base:Matched 3519 out of 3519 predicted nodes.\n",
      "Evaluating nodes: 100%|██████████| 3519/3519 [00:00<00:00, 148313.91it/s]\n",
      "Evaluating FP edges: 100%|██████████| 3517/3517 [00:00<00:00, 223387.10it/s]\n",
      "Evaluating FN edges: 100%|██████████| 3517/3517 [00:00<00:00, 344811.18it/s]\n"
     ]
    },
    {
     "name": "stdout",
     "output_type": "stream",
     "text": [
      "[{'gt': 'GT',\n",
      "  'matcher': {'matching type': 'one-to-one', 'name': 'CTCMatcher'},\n",
      "  'metric': {'e_weights': {'fn': 1.5, 'fp': 1, 'ws': 1},\n",
      "             'name': 'CTCMetrics',\n",
      "             'v_weights': {'fn': 10, 'fp': 1, 'ns': 5},\n",
      "             'valid_match_types': ['one-to-one', 'many-to-one']},\n",
      "  'pred': 'res',\n",
      "  'results': {'AOGM': 14.5,\n",
      "              'DET': 1.0,\n",
      "              'TRA': 0.9996416700646229,\n",
      "              'fn_edges': 5,\n",
      "              'fn_nodes': 0,\n",
      "              'fp_edges': 5,\n",
      "              'fp_nodes': 0,\n",
      "              'ns_nodes': 0,\n",
      "              'ws_edges': 2},\n",
      "  'version': '0.2.0'}]\n"
     ]
    },
    {
     "name": "stderr",
     "output_type": "stream",
     "text": [
      "100%|██████████| 714/714 [00:00<00:00, 95562.35it/s]\n",
      "INFO:divisualisation.divisualisation:Adding gt tracks\n"
     ]
    },
    {
     "name": "stderr",
     "output_type": "stream",
     "text": [
      "INFO:OpenGL.acceleratesupport:No OpenGL_accelerate module loaded: No module named 'OpenGL_accelerate'\n",
      "c:\\Users\\Cyril\\anaconda3\\envs\\tastra\\lib\\site-packages\\napari\\layers\\utils\\plane.py:35: RuntimeWarning: invalid value encountered in divide\n",
      "  return cast(Point3D, tuple(v / np.linalg.norm(v)))\n",
      "c:\\Users\\Cyril\\anaconda3\\envs\\tastra\\lib\\site-packages\\napari\\layers\\utils\\plane.py:35: RuntimeWarning: invalid value encountered in divide\n",
      "  return cast(Point3D, tuple(v / np.linalg.norm(v)))\n",
      "c:\\Users\\Cyril\\anaconda3\\envs\\tastra\\lib\\site-packages\\napari\\layers\\utils\\plane.py:35: RuntimeWarning: invalid value encountered in divide\n",
      "  return cast(Point3D, tuple(v / np.linalg.norm(v)))\n",
      "c:\\Users\\Cyril\\anaconda3\\envs\\tastra\\lib\\site-packages\\napari\\layers\\utils\\plane.py:35: RuntimeWarning: invalid value encountered in divide\n",
      "  return cast(Point3D, tuple(v / np.linalg.norm(v)))\n",
      "c:\\Users\\Cyril\\anaconda3\\envs\\tastra\\lib\\site-packages\\napari\\layers\\utils\\plane.py:35: RuntimeWarning: invalid value encountered in divide\n",
      "  return cast(Point3D, tuple(v / np.linalg.norm(v)))\n",
      "c:\\Users\\Cyril\\anaconda3\\envs\\tastra\\lib\\site-packages\\napari\\layers\\utils\\plane.py:35: RuntimeWarning: invalid value encountered in divide\n",
      "  return cast(Point3D, tuple(v / np.linalg.norm(v)))\n",
      "c:\\Users\\Cyril\\anaconda3\\envs\\tastra\\lib\\site-packages\\napari\\layers\\utils\\plane.py:35: RuntimeWarning: invalid value encountered in divide\n",
      "  return cast(Point3D, tuple(v / np.linalg.norm(v)))\n",
      "c:\\Users\\Cyril\\anaconda3\\envs\\tastra\\lib\\site-packages\\napari\\layers\\utils\\plane.py:35: RuntimeWarning: invalid value encountered in divide\n",
      "  return cast(Point3D, tuple(v / np.linalg.norm(v)))\n",
      "c:\\Users\\Cyril\\anaconda3\\envs\\tastra\\lib\\site-packages\\napari\\layers\\utils\\plane.py:35: RuntimeWarning: invalid value encountered in divide\n",
      "  return cast(Point3D, tuple(v / np.linalg.norm(v)))\n",
      "c:\\Users\\Cyril\\anaconda3\\envs\\tastra\\lib\\site-packages\\napari\\layers\\utils\\plane.py:35: RuntimeWarning: invalid value encountered in divide\n",
      "  return cast(Point3D, tuple(v / np.linalg.norm(v)))\n",
      "c:\\Users\\Cyril\\anaconda3\\envs\\tastra\\lib\\site-packages\\napari\\layers\\utils\\plane.py:35: RuntimeWarning: invalid value encountered in divide\n",
      "  return cast(Point3D, tuple(v / np.linalg.norm(v)))\n",
      "c:\\Users\\Cyril\\anaconda3\\envs\\tastra\\lib\\site-packages\\napari\\layers\\utils\\plane.py:35: RuntimeWarning: invalid value encountered in divide\n",
      "  return cast(Point3D, tuple(v / np.linalg.norm(v)))\n",
      "c:\\Users\\Cyril\\anaconda3\\envs\\tastra\\lib\\site-packages\\napari\\layers\\utils\\plane.py:35: RuntimeWarning: invalid value encountered in divide\n",
      "  return cast(Point3D, tuple(v / np.linalg.norm(v)))\n",
      "c:\\Users\\Cyril\\anaconda3\\envs\\tastra\\lib\\site-packages\\napari\\layers\\utils\\plane.py:35: RuntimeWarning: invalid value encountered in divide\n",
      "  return cast(Point3D, tuple(v / np.linalg.norm(v)))\n",
      "c:\\Users\\Cyril\\anaconda3\\envs\\tastra\\lib\\site-packages\\napari\\layers\\utils\\plane.py:35: RuntimeWarning: invalid value encountered in divide\n",
      "  return cast(Point3D, tuple(v / np.linalg.norm(v)))\n",
      "c:\\Users\\Cyril\\anaconda3\\envs\\tastra\\lib\\site-packages\\napari\\layers\\utils\\plane.py:35: RuntimeWarning: invalid value encountered in divide\n",
      "  return cast(Point3D, tuple(v / np.linalg.norm(v)))\n",
      "c:\\Users\\Cyril\\anaconda3\\envs\\tastra\\lib\\site-packages\\napari\\layers\\utils\\plane.py:35: RuntimeWarning: invalid value encountered in divide\n",
      "  return cast(Point3D, tuple(v / np.linalg.norm(v)))\n",
      "c:\\Users\\Cyril\\anaconda3\\envs\\tastra\\lib\\site-packages\\napari\\layers\\utils\\plane.py:35: RuntimeWarning: invalid value encountered in divide\n",
      "  return cast(Point3D, tuple(v / np.linalg.norm(v)))\n",
      "c:\\Users\\Cyril\\anaconda3\\envs\\tastra\\lib\\site-packages\\napari\\layers\\utils\\plane.py:35: RuntimeWarning: invalid value encountered in divide\n",
      "  return cast(Point3D, tuple(v / np.linalg.norm(v)))\n",
      "c:\\Users\\Cyril\\anaconda3\\envs\\tastra\\lib\\site-packages\\napari\\layers\\utils\\plane.py:35: RuntimeWarning: invalid value encountered in divide\n",
      "  return cast(Point3D, tuple(v / np.linalg.norm(v)))\n",
      "c:\\Users\\Cyril\\anaconda3\\envs\\tastra\\lib\\site-packages\\napari\\layers\\utils\\plane.py:35: RuntimeWarning: invalid value encountered in divide\n",
      "  return cast(Point3D, tuple(v / np.linalg.norm(v)))\n",
      "c:\\Users\\Cyril\\anaconda3\\envs\\tastra\\lib\\site-packages\\napari\\layers\\utils\\plane.py:35: RuntimeWarning: invalid value encountered in divide\n",
      "  return cast(Point3D, tuple(v / np.linalg.norm(v)))\n",
      "c:\\Users\\Cyril\\anaconda3\\envs\\tastra\\lib\\site-packages\\napari\\layers\\utils\\plane.py:35: RuntimeWarning: invalid value encountered in divide\n",
      "  return cast(Point3D, tuple(v / np.linalg.norm(v)))\n",
      "c:\\Users\\Cyril\\anaconda3\\envs\\tastra\\lib\\site-packages\\napari\\layers\\utils\\plane.py:35: RuntimeWarning: invalid value encountered in divide\n",
      "  return cast(Point3D, tuple(v / np.linalg.norm(v)))\n",
      "c:\\Users\\Cyril\\anaconda3\\envs\\tastra\\lib\\site-packages\\napari\\layers\\utils\\plane.py:35: RuntimeWarning: invalid value encountered in divide\n",
      "  return cast(Point3D, tuple(v / np.linalg.norm(v)))\n",
      "c:\\Users\\Cyril\\anaconda3\\envs\\tastra\\lib\\site-packages\\napari\\layers\\utils\\plane.py:35: RuntimeWarning: invalid value encountered in divide\n",
      "  return cast(Point3D, tuple(v / np.linalg.norm(v)))\n",
      "c:\\Users\\Cyril\\anaconda3\\envs\\tastra\\lib\\site-packages\\napari\\layers\\utils\\plane.py:35: RuntimeWarning: invalid value encountered in divide\n",
      "  return cast(Point3D, tuple(v / np.linalg.norm(v)))\n"
     ]
    }
   ],
   "source": [
    "img = np.stack([\n",
    "    rescale_intensity(_x, pmin=5, pmax=99.9, clip=False, subsample=1)\n",
    "    for _x in tqdm(img, desc=\"Rescale intensity\")\n",
    "])\n",
    "\n",
    "ctc_results, ctc_matched = run_metrics(\n",
    "    gt_data=gt,\n",
    "    pred_data=pred,\n",
    "    matcher=CTCMatcher(),\n",
    "    metrics=[CTCMetrics()],\n",
    ")\n",
    "pp.pprint(ctc_results)\n",
    "\n",
    "gt_graph = ctc_matched.gt_graph\n",
    "pred_graph = ctc_matched.pred_graph\n",
    "\n",
    "v = napari.current_viewer()\n",
    "if v is not None:\n",
    "    v.close()\n",
    "v = napari.Viewer()\n",
    "for layer in v.layers:\n",
    "    v.layers.remove(layer)\n",
    "v.theme = \"dark\"\n",
    "\n",
    "divis = Divisualisation(\n",
    "    z_scale=1,\n",
    "    time_scale=12,\n",
    "    tracks_width=2,\n",
    ")\n",
    "\n",
    "v = divis.visualize_gt(\n",
    "    v,\n",
    "    x=img,\n",
    "    masks=pred.segmentation,\n",
    "    # networkx graph at traccuracy.TrackingGraph.graph\n",
    "    graph=gt_graph.graph,\n",
    ")\n",
    "\n",
    "v = divis.visualize_edge_errors(\n",
    "    viewer=v,\n",
    "    gt_graph=gt_graph,\n",
    "    pred_graph=pred_graph,\n",
    "    masks_original=gt.segmentation,\n",
    "    masks_tracked=pred.segmentation,\n",
    ")"
   ]
  },
  {
   "cell_type": "code",
   "execution_count": null,
   "id": "5b6d3753",
   "metadata": {},
   "outputs": [],
   "source": []
  }
 ],
 "metadata": {
  "kernelspec": {
   "display_name": "tastra",
   "language": "python",
   "name": "python3"
  },
  "language_info": {
   "codemirror_mode": {
    "name": "ipython",
    "version": 3
   },
   "file_extension": ".py",
   "mimetype": "text/x-python",
   "name": "python",
   "nbconvert_exporter": "python",
   "pygments_lexer": "ipython3",
   "version": "3.10.16"
  }
 },
 "nbformat": 4,
 "nbformat_minor": 5
}
