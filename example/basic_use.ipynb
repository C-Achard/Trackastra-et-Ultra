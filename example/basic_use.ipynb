{
 "cells": [
  {
   "cell_type": "code",
   "execution_count": 1,
   "id": "e50a23c6",
   "metadata": {},
   "outputs": [
    {
     "name": "stderr",
     "output_type": "stream",
     "text": [
      "c:\\Users\\Cyril\\anaconda3\\envs\\tastra\\lib\\site-packages\\tqdm\\auto.py:21: TqdmWarning: IProgress not found. Please update jupyter and ipywidgets. See https://ipywidgets.readthedocs.io/en/stable/user_install.html\n",
      "  from .autonotebook import tqdm as notebook_tqdm\n"
     ]
    },
    {
     "name": "stdout",
     "output_type": "stream",
     "text": [
      "\n",
      "\n",
      "Welcome to CellposeSAM, cellpose v\n",
      "cellpose version: \t4.0.3.dev23+gde041ff \n",
      "platform:       \twin32 \n",
      "python version: \t3.10.16 \n",
      "torch version:  \t2.6.0! The neural network component of\n",
      "CPSAM is much larger than in previous versions and CPU excution is slow. \n",
      "We encourage users to use GPU/MPS if available. \n",
      "\n",
      "\n"
     ]
    }
   ],
   "source": [
    "from trackastra.model import Trackastra\n",
    "from trackastra.tracking import graph_to_ctc, graph_to_napari_tracks\n",
    "from trackastra.data import example_data_bacteria"
   ]
  },
  {
   "cell_type": "code",
   "execution_count": 2,
   "id": "229ce517",
   "metadata": {},
   "outputs": [],
   "source": [
    "imgs, masks = example_data_bacteria()"
   ]
  },
  {
   "cell_type": "code",
   "execution_count": 3,
   "id": "2a92ffbd",
   "metadata": {},
   "outputs": [
    {
     "name": "stderr",
     "output_type": "stream",
     "text": [
      "INFO:trackastra.model.model:Loading model state from C:\\Users\\Cyril\\Desktop\\Code\\trackastra-fork\\trackastra\\.models\\SAM21_general_2d\\model.pt\n",
      "INFO:trackastra.model.model_api:Using device cuda\n"
     ]
    },
    {
     "name": "stdout",
     "output_type": "stream",
     "text": [
      "C:\\Users\\Cyril\\Desktop\\Code\\trackastra-fork\\trackastra\\.models\\SAM21_general_2d already downloaded, skipping.\n"
     ]
    },
    {
     "name": "stderr",
     "output_type": "stream",
     "text": [
      "INFO:trackastra.model.model_api:Default batch size = 4 for model on cuda.\n"
     ]
    }
   ],
   "source": [
    "model = Trackastra.from_pretrained(\"SAM21_general_2d\")"
   ]
  },
  {
   "cell_type": "code",
   "execution_count": 4,
   "id": "5c151f6d",
   "metadata": {},
   "outputs": [
    {
     "name": "stderr",
     "output_type": "stream",
     "text": [
      "INFO:trackastra_pretrained_feats.pretrained_features:Using model facebook/sam2.1-hiera-base-plus with mode mean_patches_exact for pretrained feature extraction.\n",
      "INFO:root:Loaded checkpoint sucessfully\n",
      "INFO:trackastra.model.model_api:Predicting weights for candidate graph\n",
      "INFO:trackastra.data.wrfeat:Extracting features from 20 frames.\n",
      "INFO:trackastra.model.model_api:Building windows                   \n",
      "Building windows: 100%|██████████| 17/17 [00:00<00:00, 3383.47it/s]\n",
      "INFO:trackastra.model.model_api:Predicting windows\n",
      "Computing associations: 100%|██████████| 5/5 [00:00<00:00, 14.04it/s]\n",
      "INFO:trackastra.model.model_api:Running greedy tracker\n",
      "INFO:trackastra.tracking.tracking:Build candidate graph with delta_t=1\n",
      "INFO:trackastra.tracking.tracking:Added 128 vertices, 128 edges               \n",
      "INFO:trackastra.tracking.tracking:Running greedy tracker\n",
      "Greedily matched edges:  98%|█████████▊| 126/128 [00:00<00:00, 57387.59it/s]\n"
     ]
    }
   ],
   "source": [
    "track_graph, masks_tracked = model.track(imgs, masks, mode=\"greedy\")"
   ]
  },
  {
   "cell_type": "code",
   "execution_count": 5,
   "id": "581a4587",
   "metadata": {},
   "outputs": [
    {
     "name": "stderr",
     "output_type": "stream",
     "text": [
      "Converting graph to CTC results: 100%|██████████| 32/32 [00:00<00:00, 6613.67it/s]\n",
      "100%|██████████| 32/32 [00:00<?, ?it/s]\n"
     ]
    }
   ],
   "source": [
    "ctc_tracks, ctc_masks = graph_to_ctc(\n",
    "    track_graph,\n",
    "    masks_tracked,\n",
    ")\n",
    "napari_tracks, napari_tracks_graph, _ = graph_to_napari_tracks(track_graph)"
   ]
  },
  {
   "cell_type": "code",
   "execution_count": 6,
   "id": "95f131ef",
   "metadata": {},
   "outputs": [
    {
     "data": {
      "text/plain": [
       "<Tracks layer 'napari_tracks' at 0x2848cd04520>"
      ]
     },
     "execution_count": 6,
     "metadata": {},
     "output_type": "execute_result"
    }
   ],
   "source": [
    "import napari\n",
    "\n",
    "v = napari.Viewer()\n",
    "v.add_image(imgs)\n",
    "v.add_labels(ctc_masks)\n",
    "v.add_tracks(data=napari_tracks, graph=napari_tracks_graph)"
   ]
  }
 ],
 "metadata": {
  "kernelspec": {
   "display_name": "tastra",
   "language": "python",
   "name": "python3"
  },
  "language_info": {
   "codemirror_mode": {
    "name": "ipython",
    "version": 3
   },
   "file_extension": ".py",
   "mimetype": "text/x-python",
   "name": "python",
   "nbconvert_exporter": "python",
   "pygments_lexer": "ipython3",
   "version": "3.10.16"
  }
 },
 "nbformat": 4,
 "nbformat_minor": 5
}
